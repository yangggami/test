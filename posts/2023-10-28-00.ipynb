{
 "cells": [
  {
   "cell_type": "raw",
   "id": "c6c39848-7ea6-4baa-b1d8-2198ebd7aad6",
   "metadata": {},
   "source": [
    "---\n",
    "title: \"test site\"\n",
    "author: 'taehun'\n",
    "date: '10/28/23'\n",
    "categories: [test]\n",
    "---"
   ]
  },
  {
   "cell_type": "code",
   "execution_count": 1,
   "id": "c0066944-718d-4115-84fd-931f9eaae39d",
   "metadata": {
    "tags": []
   },
   "outputs": [],
   "source": [
    "import pandas as pd"
   ]
  },
  {
   "cell_type": "code",
   "execution_count": null,
   "id": "e94eec2d-91c1-47d0-bbf7-bbe343db56ad",
   "metadata": {},
   "outputs": [],
   "source": []
  }
 ],
 "metadata": {
  "kernelspec": {
   "display_name": "Python 3 (ipykernel)",
   "language": "python",
   "name": "python3"
  },
  "language_info": {
   "codemirror_mode": {
    "name": "ipython",
    "version": 3
   },
   "file_extension": ".py",
   "mimetype": "text/x-python",
   "name": "python",
   "nbconvert_exporter": "python",
   "pygments_lexer": "ipython3",
   "version": "3.11.3"
  }
 },
 "nbformat": 4,
 "nbformat_minor": 5
}
